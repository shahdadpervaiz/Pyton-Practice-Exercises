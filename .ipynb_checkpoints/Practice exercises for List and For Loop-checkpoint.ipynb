{
 "cells": [
  {
   "cell_type": "markdown",
   "metadata": {},
   "source": [
    "# Exercise # 1:\n",
    "Given a Python list you should be able to display Python list in the following order\n",
    "\n",
    "list_a= [100, 200, 300, 400, 500]\n",
    "\n",
    "Expected output:\n",
    "\n",
    "[500, 400, 300, 200, 100]"
   ]
  },
  {
   "cell_type": "code",
   "execution_count": 6,
   "metadata": {},
   "outputs": [
    {
     "name": "stdout",
     "output_type": "stream",
     "text": [
      "[500, 400, 300, 200, 100]\n"
     ]
    }
   ],
   "source": [
    "list_a= [100, 200, 300, 400, 500]\n",
    "a= list_a[::-1]\n",
    "print(a)"
   ]
  },
  {
   "cell_type": "markdown",
   "metadata": {},
   "source": [
    "# Exercise # 2: \n",
    "\n",
    "Concatenate two lists index-wise\n",
    "\n",
    "list1 = [\"M\", \"na\", \"i\", \"Ke\"] \n",
    "\n",
    "list2 = [\"y\", \"me\", \"s\", \"lly\"]\n",
    "\n",
    "Expected output:\n",
    "\n",
    "['My', 'name', 'is', 'Kelly']"
   ]
  },
  {
   "cell_type": "code",
   "execution_count": 21,
   "metadata": {},
   "outputs": [
    {
     "name": "stdout",
     "output_type": "stream",
     "text": [
      "['My', 'name', 'is', 'Kelly']\n"
     ]
    }
   ],
   "source": [
    "list1 = [\"M\", \"na\", \"i\", \"Ke\"]\n",
    "list2 = [\"y\", \"me\", \"s\", \"lly\"]\n",
    "output = []\n",
    "\n",
    "for a in list1:\n",
    "    b = a + list2[list1.index(a)]\n",
    "    output.append(b) \n",
    "\n",
    "print(output)"
   ]
  },
  {
   "cell_type": "markdown",
   "metadata": {},
   "source": [
    "# Exercise Question 3: \n",
    "Given a Python list. Turn every item of a list into its square\n",
    "\n",
    "aList = [1, 2, 3, 4, 5, 6, 7]\n",
    "\n",
    "Expected output:\n",
    "\n",
    "[1, 4, 9, 16, 25, 36, 49]"
   ]
  },
  {
   "cell_type": "code",
   "execution_count": 28,
   "metadata": {},
   "outputs": [
    {
     "name": "stdout",
     "output_type": "stream",
     "text": [
      "[1, 4, 9, 16, 25, 36, 49]\n"
     ]
    }
   ],
   "source": [
    "aList = [1, 2, 3, 4, 5, 6, 7]\n",
    "c = []\n",
    "\n",
    "for nmbr in aList:\n",
    "    a = nmbr*nmbr \n",
    "    b= c.append(a)\n",
    "\n",
    "print(c)\n"
   ]
  },
  {
   "cell_type": "markdown",
   "metadata": {},
   "source": [
    "# Exercise # 4: \n",
    "Concatenate two lists in the following order\n",
    "\n",
    "list1 = [\"Hello \", \"take \"]\n",
    "\n",
    "list2 = [\"Dear\", \"Sir\"]\n",
    "\n",
    "Expected output:\n",
    "\n",
    "['Hello Dear', 'Hello Sir', 'take Dear', 'take Sir']"
   ]
  },
  {
   "cell_type": "code",
   "execution_count": 11,
   "metadata": {},
   "outputs": [
    {
     "name": "stdout",
     "output_type": "stream",
     "text": [
      "['Hello Dear', 'Hello Sir', 'take Dear', 'take Sir']\n"
     ]
    }
   ],
   "source": [
    "list1 = [\"Hello \", \"take \"]\n",
    "list2 = [\"Dear\", \"Sir\"]\n",
    "output = []\n",
    "\n",
    "for a in list1:\n",
    "    for b in list2:\n",
    "        c = (a + b)\n",
    "        output.append(c)\n",
    "        \n",
    "print(output)"
   ]
  },
  {
   "cell_type": "markdown",
   "metadata": {},
   "source": [
    "# Exercise # 5: \n",
    "Given a two Python list. Iterate both lists simultaneously such that list1 should display item in original order and list2 in reverse order\n",
    "\n",
    "list1 = [10, 20, 30, 40]\n",
    "\n",
    "list2 = [100, 200, 300, 400]\n",
    "\n",
    "Expected output:\n",
    "\n",
    "10 400\n",
    "\n",
    "20 300\n",
    "\n",
    "30 200\n",
    "\n",
    "40 100"
   ]
  },
  {
   "cell_type": "code",
   "execution_count": 41,
   "metadata": {},
   "outputs": [
    {
     "name": "stdout",
     "output_type": "stream",
     "text": [
      "10 400\n",
      "20 300\n",
      "30 200\n",
      "40 100\n"
     ]
    }
   ],
   "source": [
    "list1 = [10, 20, 30, 40]\n",
    "list2 = [100, 200, 300, 400]\n",
    "a = 0\n",
    "\n",
    "for d in list1:\n",
    "    a = a -1\n",
    "    print(d, list2[a])   \n",
    "        "
   ]
  },
  {
   "cell_type": "markdown",
   "metadata": {},
   "source": [
    "# Exercise # 6 :\n",
    "Remove empty strings from the list of strings\n",
    "\n",
    "list1 = [\"Mike\", \"\", \"Emma\", \"Kelly\", \"\", \"Brad\"]\n",
    "\n",
    "Expected output:\n",
    "\n",
    "[\"Mike\", \"Emma\", \"Kelly\", \"Brad\"]"
   ]
  },
  {
   "cell_type": "code",
   "execution_count": 44,
   "metadata": {},
   "outputs": [
    {
     "name": "stdout",
     "output_type": "stream",
     "text": [
      "['Mike', 'Emma', 'Kelly', 'Brad']\n"
     ]
    }
   ],
   "source": [
    "list1 = [\"Mike\", \"\", \"Emma\", \"Kelly\", \"\", \"Brad\"]\n",
    "output = []\n",
    "\n",
    "for i in list1:\n",
    "    if i == \"\":\n",
    "        del(i)\n",
    "    else:\n",
    "        output.append(i)\n",
    "\n",
    "print(output)"
   ]
  },
  {
   "cell_type": "code",
   "execution_count": null,
   "metadata": {},
   "outputs": [],
   "source": []
  },
  {
   "cell_type": "markdown",
   "metadata": {},
   "source": [
    "# Exercise # 7 :\n",
    "Write a Python program to convert temperatures to and from celsius, fahrenheit. \n",
    "Go to the editor\n",
    "\n",
    "[ Formula : c/5 = f-32/9 \n",
    "\n",
    "[ where c = temperature in celsius and f = temperature in fahrenheit ]\n",
    "\n",
    "Expected Output :\n",
    "60°C is 140 in Fahrenheit\n",
    "45°F is 7 in Celsius\n"
   ]
  },
  {
   "cell_type": "code",
   "execution_count": 45,
   "metadata": {},
   "outputs": [
    {
     "name": "stdout",
     "output_type": "stream",
     "text": [
      "Enter the temperature : 44\n",
      "Enter the desired scale C/F :F\n",
      "44F is 6.666666666666666 in Celsius\n"
     ]
    }
   ],
   "source": [
    "temp = int(input('Enter the temperature : '))\n",
    "scale = input('Enter the desired scale C/F :')\n",
    "\n",
    "if scale.lower() == \"c\":\n",
    "    con_temp = (((temp * 9) / 5) + 32)\n",
    "    print(f'{temp}C is {con_temp} in Fahrenheit')\n",
    "elif scale.lower() == \"f\":\n",
    "    con_temp = (((temp - 32) / 9 ) * 5)\n",
    "    print(f'{temp}F is {con_temp} in Celsius')\n",
    "    \n",
    "else:\n",
    "    print(\"invalid scale format\")"
   ]
  },
  {
   "cell_type": "markdown",
   "metadata": {},
   "source": [
    "# Exercise # 8\n",
    "Write a Python program to guess a number between 1 to 9.\n",
    "Note : User is prompted to enter a guess. If the user guesses wrong\n",
    "then the prompt appears again until the guess is correct, on successful guess,\n",
    "user will get a \"Well guessed!\" message, and the program will exit.\n"
   ]
  },
  {
   "cell_type": "code",
   "execution_count": 69,
   "metadata": {},
   "outputs": [
    {
     "name": "stdout",
     "output_type": "stream",
     "text": [
      "Enter your guessed number : 2\n",
      "Enter your guessed number : 3\n",
      "Enter your guessed number : 4\n",
      "Enter your guessed number : 5\n",
      "\n",
      " you won,\n",
      " << generated_number : 5 ,\n",
      "   your_guess: 5 >>\n"
     ]
    }
   ],
   "source": [
    "import random as random\n",
    "generated_number = random.randrange(1,10)\n",
    "\n",
    "while user_guess != generated_number:\n",
    "    user_guess = int(input(\"Enter your guessed number : \"))    \n",
    "else:\n",
    "    print( f'\\n you won,\\n << generated_number : {generated_number} ,\\n   your_guess: {user_guess} >>')"
   ]
  },
  {
   "cell_type": "markdown",
   "metadata": {},
   "source": [
    "# Exercise # 9\n",
    "Write a Python program that prints all the numbers from 0 to 6 except 3 and 6."
   ]
  },
  {
   "cell_type": "code",
   "execution_count": 40,
   "metadata": {},
   "outputs": [
    {
     "name": "stdout",
     "output_type": "stream",
     "text": [
      "0\n",
      "1\n",
      "2\n",
      "4\n",
      "5\n"
     ]
    }
   ],
   "source": [
    "for a in range(7):\n",
    "    if a == 3 or a == 6:\n",
    "        continue\n",
    "    else:\n",
    "        print(a)"
   ]
  },
  {
   "cell_type": "markdown",
   "metadata": {},
   "source": [
    "# Exercise # 10\n",
    "Write a Python program which iterates the integers from 1 to 50.\n",
    "For multiples of three print \"it is multiple of 3\" instead of the number \n",
    "and for the multiples of five print \"multiple of 5\". For numbers which are \n",
    "multiples of both three and five print \"multiple of both 3 and 5\"\n"
   ]
  },
  {
   "cell_type": "code",
   "execution_count": 11,
   "metadata": {},
   "outputs": [
    {
     "name": "stdout",
     "output_type": "stream",
     "text": [
      "1\n",
      "2\n",
      "3 is divisible by 3 \n",
      "4\n",
      "5\n",
      "6 is divisible by 3 \n",
      "7\n",
      "8\n",
      "9 is divisible by 3 \n",
      "10\n",
      "11\n",
      "12 is divisible by 3 \n",
      "13\n",
      "14\n",
      "15 is divisible by 3 \n",
      "16\n",
      "17\n",
      "18 is divisible by 3 \n",
      "19\n",
      "20\n",
      "21 is divisible by 3 \n",
      "22\n",
      "23\n",
      "24 is divisible by 3 \n",
      "25\n",
      "26\n",
      "27 is divisible by 3 \n",
      "28\n",
      "29\n",
      "30 is divisible by 3 \n",
      "31\n",
      "32\n",
      "33 is divisible by 3 \n",
      "34\n",
      "35\n",
      "36 is divisible by 3 \n",
      "37\n",
      "38\n",
      "39 is divisible by 3 \n",
      "40\n",
      "41\n",
      "42 is divisible by 3 \n",
      "43\n",
      "44\n",
      "45 is divisible by 3 \n",
      "46\n",
      "47\n",
      "48 is divisible by 3 \n",
      "49\n",
      "50\n"
     ]
    }
   ],
   "source": [
    "for a in range(1,51):\n",
    "    if (a % 3) == 0:\n",
    "        print(f'{a} is divisible by 3 ')\n",
    "    elif (a % 5) == 0:\n",
    "        print(f'{a} is divisible by 5 ')\n",
    "    elif (a % 3) == 0 and (a % 5) == 0:\n",
    "        print(f'{a} is divisible by both 3 and 5 ')\n",
    "    else:\n",
    "        print(a)"
   ]
  },
  {
   "cell_type": "code",
   "execution_count": 13,
   "metadata": {},
   "outputs": [
    {
     "data": {
      "text/plain": [
       "0"
      ]
     },
     "execution_count": 13,
     "metadata": {},
     "output_type": "execute_result"
    }
   ],
   "source": []
  },
  {
   "cell_type": "markdown",
   "metadata": {},
   "source": [
    "# Exercise # 11\n",
    "Write a Python program to create the multiplication table (from 1 to 10) of a number."
   ]
  },
  {
   "cell_type": "code",
   "execution_count": 33,
   "metadata": {},
   "outputs": [
    {
     "name": "stdout",
     "output_type": "stream",
     "text": [
      "Enter your number here : 3\n",
      "3 x 1 =  3\n",
      "3 x 2 =  6\n",
      "3 x 3 =  9\n",
      "3 x 4 =  12\n",
      "3 x 5 =  15\n",
      "3 x 6 =  18\n",
      "3 x 7 =  21\n",
      "3 x 8 =  24\n",
      "3 x 9 =  27\n",
      "3 x 10 =  30\n"
     ]
    }
   ],
   "source": [
    "nmbr = int(input(\"Enter your number here : \"))\n",
    "for a in range(1,11):\n",
    "    print(f'{nmbr} x {a} = ', nmbr * a)"
   ]
  },
  {
   "cell_type": "markdown",
   "metadata": {},
   "source": [
    "# Exercise # 12\n",
    "Get all diagonal of matrix and sum of it :\n",
    "\n",
    "matrix = \n",
    "\n",
    "[[1,2,3,4],\n",
    "\n",
    "[2,3,4,5], \n",
    "\n",
    "[3,4,5,6], \n",
    "\n",
    "[4,5,6,7]]"
   ]
  },
  {
   "cell_type": "code",
   "execution_count": 115,
   "metadata": {},
   "outputs": [
    {
     "name": "stdout",
     "output_type": "stream",
     "text": [
      "forward_diagonal:  1\n",
      "forward_diagonal:  3\n",
      "forward_diagonal:  5\n",
      "forward_diagonal:  7\n",
      "\n",
      "backward_diagonal:  4\n",
      "\n",
      "backward_diagonal:  4\n",
      "\n",
      "backward_diagonal:  4\n",
      "\n",
      "backward_diagonal:  4\n",
      "\n",
      "\n",
      "sum of forward diagonal is : 16\n",
      "sum of forward diagonal is : 16\n"
     ]
    }
   ],
   "source": [
    "matrix =[[1,2,3,4],[2,3,4,5],[3,4,5,6],[4,5,6,7]]\n",
    "index = 0\n",
    "backward_index = 3\n",
    "forward_diagonal = 0\n",
    "backward_diagonal = 0\n",
    "\n",
    "for row in matrix:\n",
    "    a = row[index]\n",
    "    forward_diagonal = forward_diagonal + a\n",
    "    index = index + 1\n",
    "    print(f'forward_diagonal: ', a)\n",
    "\n",
    "\n",
    "for row_b in matrix:\n",
    "    b = row_b[backward_index]\n",
    "    backward_diagonal = backward_diagonal + b\n",
    "    backward_index = backward_index - 1\n",
    "    print(f'\\nbackward_diagonal: ',b)\n",
    "\n",
    "print(f'\\n\\nsum of forward diagonal is :', forward_diagonal)\n",
    "print(f'sum of forward diagonal is :', backward_diagonal)"
   ]
  },
  {
   "cell_type": "code",
   "execution_count": null,
   "metadata": {},
   "outputs": [],
   "source": []
  }
 ],
 "metadata": {
  "kernelspec": {
   "display_name": "Python 3",
   "language": "python",
   "name": "python3"
  },
  "language_info": {
   "codemirror_mode": {
    "name": "ipython",
    "version": 3
   },
   "file_extension": ".py",
   "mimetype": "text/x-python",
   "name": "python",
   "nbconvert_exporter": "python",
   "pygments_lexer": "ipython3",
   "version": "3.7.6"
  }
 },
 "nbformat": 4,
 "nbformat_minor": 4
}
