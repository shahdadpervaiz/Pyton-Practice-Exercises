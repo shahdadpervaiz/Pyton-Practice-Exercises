{
 "cells": [
  {
   "cell_type": "markdown",
   "metadata": {},
   "source": [
    "# Exercise # 1 :\n",
    "Take two int values from user and print greatest among them."
   ]
  },
  {
   "cell_type": "code",
   "execution_count": 27,
   "metadata": {},
   "outputs": [
    {
     "name": "stdout",
     "output_type": "stream",
     "text": [
      "Enter the 1st number : 7\n",
      "Enter the 2nd number : 8\n",
      "8 is greater than 7\n"
     ]
    }
   ],
   "source": [
    "int_1 = input('Enter the 1st number : ')\n",
    "int_2 = input('Enter the 2nd number : ')\n",
    "\n",
    "if int_1 > int_2:\n",
    "    print(f'{int_1} is greater than {int_2}')\n",
    "else:\n",
    "    print(f'{int_2} is greater than {int_1}')"
   ]
  },
  {
   "cell_type": "markdown",
   "metadata": {},
   "source": [
    "# Exercise # 2:\n",
    "Take input of age of 3 people by user and determine oldest and youngest among them."
   ]
  },
  {
   "cell_type": "code",
   "execution_count": 1,
   "metadata": {},
   "outputs": [
    {
     "name": "stdout",
     "output_type": "stream",
     "text": [
      "Enter the Age of User_1 : 75\n",
      "Enter the age of User_2 : 65\n",
      "Enter the age of User_3 : 22\n",
      "User_1 is the oldest one \n",
      "User_3 is the youngest one \n"
     ]
    }
   ],
   "source": [
    "age_of_user1 = input(\"Enter the Age of User_1 : \")\n",
    "age_of_user2 = input(\"Enter the age of User_2 : \")\n",
    "age_of_user3 = input(\"Enter the age of User_3 : \")\n",
    "\n",
    "if age_of_user1 > age_of_user2 > age_of_user3:\n",
    "    print('User_1 is the oldest one ')\n",
    "elif age_of_user2 > age_of_user1 > age_of_user3:\n",
    "    print('User_2 is the oldest one ')\n",
    "else:\n",
    "    print('User_3 is the oldest one ')\n",
    "\n",
    "if age_of_user1 < age_of_user2 < age_of_user3:\n",
    "    print('User_1 is the youngest one ')\n",
    "elif age_of_user2 < age_of_user1 < age_of_user3:\n",
    "    print('User_2 is the youngest one ')\n",
    "else:\n",
    "    print('User_3 is the youngest one ')\n"
   ]
  },
  {
   "cell_type": "code",
   "execution_count": 2,
   "metadata": {},
   "outputs": [
    {
     "name": "stdout",
     "output_type": "stream",
     "text": [
      "Enter the Age of User_1 : 88\n",
      "Enter the age of User_2 : 66\n",
      "Enter the age of User_3 : 77\n"
     ]
    },
    {
     "data": {
      "text/plain": [
       "\"elif age_of_user2 > age_of_user1 > age_of_user3:\\n    print('User_2 is the oldest one ')\\nelse:\\n    print('User_3 is the oldest one ')\\n\\nif age_of_user1 < age_of_user2 < age_of_user3:\\n    print('User_1 is the youngest one ')\\nelif age_of_user2 < age_of_user1 < age_of_user3:\\n    print('User_2 is the youngest one ')\\nelse:\\n    print('User_3 is the youngest one ')\\n\""
      ]
     },
     "execution_count": 2,
     "metadata": {},
     "output_type": "execute_result"
    }
   ],
   "source": [
    "age_of_user1 = input(\"Enter the Age of User_1 : \")\n",
    "age_of_user2 = input(\"Enter the age of User_2 : \")\n",
    "age_of_user3 = input(\"Enter the age of User_3 : \")\n",
    "\n",
    "if age_of_user1 > age_of_user2 > age_of_user3:\n",
    "    print('User_1 is the oldest one ')\n",
    "    if age_of_user2 > age_of_user3:\n",
    "        print('user_3 is youngest')\n",
    "    else:\n",
    "        print('user_2 is youngest')\n",
    "    \n",
    "\"\"\"elif age_of_user2 > age_of_user1 > age_of_user3:\n",
    "    print('User_2 is the oldest one ')\n",
    "else:\n",
    "    print('User_3 is the oldest one ')\n",
    "\n",
    "if age_of_user1 < age_of_user2 < age_of_user3:\n",
    "    print('User_1 is the youngest one ')\n",
    "elif age_of_user2 < age_of_user1 < age_of_user3:\n",
    "    print('User_2 is the youngest one ')\n",
    "else:\n",
    "    print('User_3 is the youngest one ')\n",
    "\"\"\""
   ]
  },
  {
   "cell_type": "markdown",
   "metadata": {},
   "source": [
    "# Exercise # 3:\n",
    "Take values of length and breadth of a rectangle from user and check if it is square or not."
   ]
  },
  {
   "cell_type": "code",
   "execution_count": 2,
   "metadata": {},
   "outputs": [
    {
     "name": "stdout",
     "output_type": "stream",
     "text": [
      "Enter the length of Rectangle : 23\n",
      "Enter the breadth of Rectangle : 23\n",
      "its a square\n"
     ]
    }
   ],
   "source": [
    "length_of_rectangle = input(\"Enter the length of Rectangle : \")\n",
    "breadth_of_rectangle = input(\"Enter the breadth of Rectangle : \")\n",
    "if length_of_rectangle == breadth_of_rectangle:\n",
    "    print(\"its a square\")\n",
    "else:\n",
    "    print(\"its not a square\")"
   ]
  },
  {
   "cell_type": "markdown",
   "metadata": {},
   "source": [
    "# Exercise # 4:\n",
    "A shop will give discount of 10% if the cost of purchased quantity is more than 1000.\n",
    "Ask user for quantity\n",
    "Suppose, one unit will cost 100.\n",
    "Judge and print total cost for user.\n"
   ]
  },
  {
   "cell_type": "code",
   "execution_count": 19,
   "metadata": {},
   "outputs": [
    {
     "name": "stdout",
     "output_type": "stream",
     "text": [
      "Enter the purchased quantity : 10\n",
      "you have got discount of :  100.0\n",
      "your Total cost is :  900.0\n"
     ]
    }
   ],
   "source": [
    "per_unit_cost = 100\n",
    "purchased_quantity = int(input(\"Enter the purchased quantity : \"))\n",
    "total_cost = (per_unit_cost * purchased_quantity)\n",
    "\n",
    "if total_cost >= 1000:\n",
    "    discount = total_cost * (10 *(1/100))\n",
    "    total_cost = total_cost - discount\n",
    "    print(\"you have got discount of : \" , discount)\n",
    "    print(\"your Total cost is : \" , total_cost)\n",
    "else:\n",
    "    print(\"your Total cost is : \" , total_cost)"
   ]
  },
  {
   "cell_type": "code",
   "execution_count": null,
   "metadata": {},
   "outputs": [],
   "source": []
  },
  {
   "cell_type": "markdown",
   "metadata": {},
   "source": [
    "# Exercise # 5:\n",
    "A company decided to give bonus of 5% to employee if his/her year of service is more than 5 years.\n",
    "Ask user for their salary and year of service and print the net bonus amount.\n",
    "\n"
   ]
  },
  {
   "cell_type": "code",
   "execution_count": 24,
   "metadata": {},
   "outputs": [
    {
     "name": "stdout",
     "output_type": "stream",
     "text": [
      "Enter your salary : 100000\n",
      "Enter your years of service : 3\n",
      "no bonus\n"
     ]
    }
   ],
   "source": [
    "salary = int(input(\"Enter your salary : \"))\n",
    "year_of_service = int(input(\"Enter your years of service : \"))\n",
    "if year_of_service >= 5:\n",
    "    net_bonus = salary *(5/100)\n",
    "    print(\"the bonus ammount is : \",net_bonus)\n",
    "else:\n",
    "    print(\"no bonus\")\n"
   ]
  },
  {
   "cell_type": "code",
   "execution_count": null,
   "metadata": {},
   "outputs": [],
   "source": []
  },
  {
   "cell_type": "markdown",
   "metadata": {},
   "source": [
    "# Exercise # 6:\n",
    "A school has following rules for grading system:\n",
    "\n",
    "a. Below 25 - F\n",
    "\n",
    "b. 25 to 45 - E\n",
    "\n",
    "c. 45 to 50 - D\n",
    "\n",
    "d. 50 to 60 - C\n",
    "\n",
    "e. 60 to 80 - B\n",
    "\n",
    "f. Above 80 - A\n",
    "\n",
    "Ask user to enter marks and print the corresponding grade."
   ]
  },
  {
   "cell_type": "code",
   "execution_count": 3,
   "metadata": {},
   "outputs": [
    {
     "name": "stdout",
     "output_type": "stream",
     "text": [
      "Enter your marks : 90\n",
      "your have secured Grade A \n"
     ]
    }
   ],
   "source": [
    "marks = int(input(\"Enter your marks : \"))\n",
    "if marks < 25:\n",
    "    print(\"your have secured Grade F \")\n",
    "elif marks >= 25 and marks <= 45:\n",
    "    print(\"your have secured Grade E \")\n",
    "elif marks > 45 and marks <= 50:\n",
    "    print(\"your have secured Grade D \")\n",
    "elif marks > 50 and marks <= 60:\n",
    "    print(\"your have secured Grade C \")\n",
    "elif marks > 60 and marks <= 80:\n",
    "    print(\"your have secured Grade B \")\n",
    "else:\n",
    "    print(\"your have secured Grade A \")"
   ]
  },
  {
   "cell_type": "markdown",
   "metadata": {},
   "source": [
    "# Exercise # 7:\n",
    "Write a program to print absolute vlaue of a number entered by user.\n",
    "\n",
    "E.g.-\n",
    "\n",
    "INPUT: 1    =>>>>    OUTPUT: 1\n",
    "\n",
    "INPUT: -1   =>>>>     OUTPUT: 1\n"
   ]
  },
  {
   "cell_type": "code",
   "execution_count": 16,
   "metadata": {},
   "outputs": [
    {
     "name": "stdout",
     "output_type": "stream",
     "text": [
      "Enter your number : -4\n",
      "the absolute of  -4 is 4\n"
     ]
    }
   ],
   "source": [
    "number = int(input(\"Enter your number : \"))\n",
    "if number < 0:\n",
    "    number_1 = number * -1\n",
    "    print(\"the absolute of \" , number , \"is\", number_1)\n",
    "else:\n",
    "    print(number)"
   ]
  },
  {
   "cell_type": "markdown",
   "metadata": {},
   "source": [
    "# Exercise # 8:\n",
    "A student will not be allowed to sit in exam if his/her attendence is less than 75%.\n",
    "Take following input from user\n",
    "Number of classes held\n",
    "Number of classes attended.\n",
    "And print\n",
    "percentage of class attended\n",
    "Is student is allowed to sit in exam or not."
   ]
  },
  {
   "cell_type": "code",
   "execution_count": 9,
   "metadata": {},
   "outputs": [
    {
     "name": "stdout",
     "output_type": "stream",
     "text": [
      "Enter the Number of classes held : 100\n",
      "Enter the Number of classes attended : 55\n",
      "Attendance is 55.00000000000001%\n",
      "student is not Allowed to sit in Exam\n"
     ]
    }
   ],
   "source": [
    "classes_held = int(input(\"Enter the Number of classes held : \"))\n",
    "classes_attended = int(input(\"Enter the Number of classes attended : \"))\n",
    "attendance = (classes_attended/classes_held) * 100\n",
    "if attendance >= 75:\n",
    "    print(f\"Attendance is {attendance}%\")\n",
    "    print(\"student is Allowed to sit in Exam\")\n",
    "else:\n",
    "    print(f\"Attendance is {attendance}%\")\n",
    "    print(\"student is not Allowed to sit in Exam\")"
   ]
  },
  {
   "cell_type": "markdown",
   "metadata": {},
   "source": [
    "# Exercise # 9:\n",
    "Modify the above question to allow student to sit if he/she has medical cause. Ask user if he/she has medical cause or not ( 'Y' or 'N' ) and print accordingly."
   ]
  },
  {
   "cell_type": "code",
   "execution_count": 13,
   "metadata": {},
   "outputs": [
    {
     "name": "stdout",
     "output_type": "stream",
     "text": [
      "Enter the Number of classes held : 100\n",
      "Enter the Number of classes attended : 44\n",
      "Did you have any medical cause (Y/N) : n\n",
      "Attendance is 44.0%\n",
      "student is not Allowed to sit in Exam\n"
     ]
    }
   ],
   "source": [
    "classes_held = int(input(\"Enter the Number of classes held : \"))\n",
    "classes_attended = int(input(\"Enter the Number of classes attended : \"))\n",
    "attendance = (classes_attended/classes_held) * 100\n",
    "if attendance >= 75:\n",
    "    print(f\"Attendance is {attendance}%\")\n",
    "    print(\"student is Allowed to sit in Exam\")\n",
    "else:\n",
    "    cause = input(\"Did you have any medical cause (Y/N) : \")\n",
    "    if cause.lower() == \"y\":\n",
    "        print(\"you are allowed to sit in exam \")\n",
    "    else:\n",
    "        print(f\"Attendance is {attendance}%\")\n",
    "        print(\"student is not Allowed to sit in Exam\")"
   ]
  },
  {
   "cell_type": "code",
   "execution_count": null,
   "metadata": {},
   "outputs": [],
   "source": []
  }
 ],
 "metadata": {
  "kernelspec": {
   "display_name": "Python 3",
   "language": "python",
   "name": "python3"
  },
  "language_info": {
   "codemirror_mode": {
    "name": "ipython",
    "version": 3
   },
   "file_extension": ".py",
   "mimetype": "text/x-python",
   "name": "python",
   "nbconvert_exporter": "python",
   "pygments_lexer": "ipython3",
   "version": "3.7.6"
  }
 },
 "nbformat": 4,
 "nbformat_minor": 4
}
